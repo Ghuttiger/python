{
 "cells": [
  {
   "cell_type": "code",
   "execution_count": 1,
   "metadata": {},
   "outputs": [],
   "source": [
    "import calculadora"
   ]
  },
  {
   "cell_type": "code",
   "execution_count": 2,
   "metadata": {},
   "outputs": [],
   "source": [
    "names = \"\"\"Agustin, Yanina, Andrés, Ariadna, Bautista, CAROLINA, CESAR, David, Diego, Dolores, DYLAN, ELIANA, Emanuel, Fabián, Noelia, Francisca, FEDERICO, Fernanda, GONZALO, Nancy\"\"\"\n",
    "goals = [0, 10, 4, 0, 5, 14, 0, 0, 7, 2, 1, 1, 1, 5, 6, 1, 1, 2, 0, 11]\n",
    "goals_avoided = [0, 2, 0, 0, 5, 2, 0, 0, 1, 2, 0, 5, 5, 0, 1, 0, 2, 3, 0, 0]\n",
    "assists = [0, 5, 1, 0, 5, 2, 0, 0, 1, 2, 1, 5, 5, 0, 1, 0, 2, 3, 1, 0]\n",
    "names=names.replace(',','')\n",
    "names=names.lower()\n",
    "x = names.split()\n",
    "diccionario = calculadora.crear(x, goals, goals_avoided, assists)"
   ]
  },
  {
   "cell_type": "markdown",
   "metadata": {},
   "source": [
    "punto b\n",
    "utilizo el metedo max que sirve para buscar el maximo goleador"
   ]
  },
  {
   "cell_type": "code",
   "execution_count": 3,
   "metadata": {},
   "outputs": [
    {
     "name": "stdout",
     "output_type": "stream",
     "text": [
      "el nombre del goleador es: carolina\n"
     ]
    }
   ],
   "source": [
    "goleador=max(diccionario, key=diccionario.get)\n",
    "print(\"el nombre del goleador es:\", goleador)"
   ]
  },
  {
   "cell_type": "code",
   "execution_count": 5,
   "metadata": {},
   "outputs": [
    {
     "name": "stdout",
     "output_type": "stream",
     "text": [
      "el jugador mas influyente es: carolina\n"
     ]
    }
   ],
   "source": [
    "print(f'el jugador mas influyente es: {calculadora.mas_influ(diccionario)}')"
   ]
  },
  {
   "cell_type": "code",
   "execution_count": 13,
   "metadata": {},
   "outputs": [
    {
     "name": "stdout",
     "output_type": "stream",
     "text": [
      "el promedio de goles por partido es de: 2.84\n"
     ]
    }
   ],
   "source": [
    "print(f'el promedio de goles por partido es de: {calculadora.promedio(diccionario)}')"
   ]
  },
  {
   "cell_type": "code",
   "execution_count": 7,
   "metadata": {},
   "outputs": [
    {
     "name": "stdout",
     "output_type": "stream",
     "text": [
      "el promedio de goles por partido es del goleador es de: 0.56\n"
     ]
    }
   ],
   "source": [
    "\n",
    "print(f'el promedio de goles por partido es del goleador es de: {calculadora.promedio_goleador(diccionario, goleador)}')"
   ]
  }
 ],
 "metadata": {
  "kernelspec": {
   "display_name": "Python 3",
   "language": "python",
   "name": "python3"
  },
  "language_info": {
   "codemirror_mode": {
    "name": "ipython",
    "version": 3
   },
   "file_extension": ".py",
   "mimetype": "text/x-python",
   "name": "python",
   "nbconvert_exporter": "python",
   "pygments_lexer": "ipython3",
   "version": "3.11.5"
  }
 },
 "nbformat": 4,
 "nbformat_minor": 2
}
